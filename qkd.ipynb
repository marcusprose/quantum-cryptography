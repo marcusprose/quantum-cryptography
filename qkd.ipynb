{
 "cells": [
  {
   "cell_type": "markdown",
   "id": "4cdb1b7f",
   "metadata": {},
   "source": [
    "# Quantum Key Distribution"
   ]
  },
  {
   "cell_type": "code",
   "execution_count": 1,
   "id": "7c33ebbd",
   "metadata": {},
   "outputs": [],
   "source": [
    "# boilerplate\n",
    "import numpy as np\n",
    "import pandas as pd\n",
    "import matplotlib as plt\n",
    "import os\n",
    "\n",
    "# qiskit\n",
    "from qiskit import QuantumCircuit, execute, Aer\n",
    "from qiskit.visualization import plot_histogram, plot_bloch_multivector\n",
    "from numpy.random import randint\n",
    "from qiskit.providers.aer import QasmSimulator\n",
    "\n",
    "# other classes I wrote\n",
    "import Alice\n",
    "import Bob\n",
    "import Eve\n",
    "import Encrypt"
   ]
  },
  {
   "cell_type": "markdown",
   "id": "461cdc24",
   "metadata": {},
   "source": [
    "Fact: measuring a quibit can change its state. If Eve attempts to access the information contained in the qubit sent from Alice to Bob, i.e. by measuring it, then it is possible that the state of the qubit will be changed.\n",
    "\n"
   ]
  },
  {
   "cell_type": "markdown",
   "id": "e7479f7c",
   "metadata": {},
   "source": [
    "## Demo 1: Without Interception"
   ]
  },
  {
   "cell_type": "code",
   "execution_count": 2,
   "id": "866a826a",
   "metadata": {
    "scrolled": true
   },
   "outputs": [
    {
     "data": {
      "text/plain": [
       "True"
      ]
     },
     "execution_count": 2,
     "metadata": {},
     "output_type": "execute_result"
    }
   ],
   "source": [
    "e = Encrypt.Encrypt(32)\n",
    "e.run_without_intercept()"
   ]
  },
  {
   "cell_type": "code",
   "execution_count": 2,
   "id": "f7592661",
   "metadata": {},
   "outputs": [
    {
     "data": {
      "image/png": "[encoded data removed]",
      "text/plain": [
       "<Figure size 193.726x144.48 with 1 Axes>"
      ]
     },
     "execution_count": 2,
     "metadata": {},
     "output_type": "execute_result"
    }
   ],
   "source": [
    "alice = Alice.Alice(32)\n",
    "bob = Bob.Bob(32)\n",
    "bits = alice.init_bitstring()\n",
    "bases = alice.init_bases()\n",
    "    \n",
    "list = alice.encode_bitstring(bits, bases)\n",
    "list[3].draw('mpl')"
   ]
  },
  {
   "cell_type": "code",
   "execution_count": 3,
   "id": "89806f02",
   "metadata": {},
   "outputs": [
    {
     "data": {
      "image/png": "[encoded data removed]",
      "text/plain": [
       "<Figure size 193.726x144.48 with 1 Axes>"
      ]
     },
     "execution_count": 3,
     "metadata": {},
     "output_type": "execute_result"
    }
   ],
   "source": [
    "np.random.seed(seed=0)\n",
    "n = 32\n",
    "\n",
    "# Alice generates bits and bases\n",
    "alice_bits = randint(2, size=n)\n",
    "alice_bases = randint(2, size=n)\n",
    "\n",
    "message = alice.encode_bitstring(alice_bits, alice_bases)\n",
    "message[7].draw('mpl')"
   ]
  },
  {
   "cell_type": "code",
   "execution_count": 4,
   "id": "9bdcd4d2",
   "metadata": {},
   "outputs": [
    {
     "name": "stdout",
     "output_type": "stream",
     "text": [
      "[0, 1, 0, 1, 1, 1, 1, 1, 1, 0, 1, 0, 0, 1, 0, 0, 0, 0, 0, 1, 0, 1, 1, 1, 0, 1, 1, 1, 1, 0, 1, 0]\n"
     ]
    },
    {
     "data": {
      "image/png": "[encoded data removed]",
      "text/plain": [
       "<Figure size 314.126x144.48 with 1 Axes>"
      ]
     },
     "execution_count": 4,
     "metadata": {},
     "output_type": "execute_result"
    }
   ],
   "source": [
    "# now bob measures the message in a random sequence of bases of his choosing\n",
    "bob_bases = randint(2, size=n)\n",
    "bob_results = bob.measure_message(message, bob_bases) # this is the result for step 3.. bob keeps this result private\n",
    "print(bob_results)\n",
    "message[0].draw('mpl')"
   ]
  },
  {
   "cell_type": "code",
   "execution_count": 5,
   "id": "fbe0762c",
   "metadata": {},
   "outputs": [
    {
     "name": "stdout",
     "output_type": "stream",
     "text": [
      "32\n"
     ]
    }
   ],
   "source": [
    "message[6].draw('mpl')\n",
    "print(len(bob_results))"
   ]
  },
  {
   "cell_type": "code",
   "execution_count": 6,
   "id": "712eb214",
   "metadata": {
    "scrolled": true
   },
   "outputs": [
    {
     "name": "stdout",
     "output_type": "stream",
     "text": [
      "Alice key = [0, 1, 1, 1, 1, 1, 0, 0, 0, 0, 0, 0, 1, 0, 1, 1, 0, 1, 1, 0, 1, 0]\n",
      "Bob key = [0, 1, 1, 1, 1, 1, 0, 0, 0, 0, 0, 0, 1, 0, 1, 1, 0, 1, 1, 0, 1, 0]\n",
      "\n",
      "Len_alice = 22\n",
      "Len_bob = 22\n",
      "\n",
      "True\n",
      "bob_sample = [1, 1, 1, 1, 0, 0, 0, 1, 0, 0, 0, 0, 1, 1, 0, 1]\n",
      "alice_sample = [1, 1, 1, 1, 0, 0, 0, 1, 0, 0, 0, 0, 1, 1, 0, 1]\n",
      "True\n"
     ]
    }
   ],
   "source": [
    "alice_key = alice.remove_garbage(alice_bases, bob_bases, alice_bits)\n",
    "bob_key = bob.remove_garbage(alice_bases, bob_bases, bob_results)\n",
    "print(f'Alice key = {alice_key}')\n",
    "print(f'Bob key = {bob_key}')\n",
    "print()\n",
    "\n",
    "print(f'Len_alice = {len(alice_key)}')\n",
    "print(f'Len_bob = {len(bob_key)}')\n",
    "print()\n",
    "\n",
    "print(alice_key == bob_key)\n",
    "\n",
    "# now testing a random sample to make sure the protocol worked correctly\n",
    "sample_size = 16\n",
    "bit_selection = randint(n, size=sample_size)\n",
    "\n",
    "bob_sample = bob.share_random_sample(bob_key, bit_selection)\n",
    "print(\"bob_sample = \" + str(bob_sample))\n",
    "alice_sample = alice.share_random_sample(alice_key, bit_selection)\n",
    "print(\"alice_sample = \"+ str(alice_sample))\n",
    "\n",
    "\n",
    "# if successful, true\n",
    "print(bob_sample == alice_sample) "
   ]
  },
  {
   "cell_type": "markdown",
   "id": "05b8e4df",
   "metadata": {},
   "source": [
    "## Demo 2: With Interception"
   ]
  },
  {
   "cell_type": "code",
   "execution_count": 7,
   "id": "3a3a8c52",
   "metadata": {},
   "outputs": [
    {
     "data": {
      "image/png": "[encoded data removed]",
      "text/plain": [
       "<Figure size 314.126x144.48 with 1 Axes>"
      ]
     },
     "execution_count": 7,
     "metadata": {},
     "output_type": "execute_result"
    }
   ],
   "source": [
    "alice = Alice.Alice(32)\n",
    "bob = Bob.Bob(32)\n",
    "eve = Eve.Eve(32) # now, we need an eavesdropper\n",
    "\n",
    "\n",
    "alice_bits = alice.init_bitstring()\n",
    "alice_bases = alice.init_bases()\n",
    "    \n",
    "message = alice.encode_bitstring(alice_bits, alice_bases)\n",
    "message[0].draw('mpl')"
   ]
  },
  {
   "cell_type": "code",
   "execution_count": 8,
   "id": "2216a46f",
   "metadata": {},
   "outputs": [
    {
     "name": "stdout",
     "output_type": "stream",
     "text": [
      "[1, 1, 1, 0, 1, 1, 1, 0, 1, 1, 1, 1, 1, 0, 1, 1, 0, 0, 0, 1, 0, 0, 1, 1, 1, 1, 0, 0, 0, 0, 0, 0]\n"
     ]
    },
    {
     "data": {
      "image/png": "[encoded data removed]",
      "text/plain": [
       "<Figure size 434.526x144.48 with 1 Axes>"
      ]
     },
     "execution_count": 8,
     "metadata": {},
     "output_type": "execute_result"
    }
   ],
   "source": [
    "eve_bases = eve.init_bases()\n",
    "intercept_message = eve.intercept_message(message, eve_bases)\n",
    "print(intercept_message)\n",
    "message[0].draw('mpl')"
   ]
  },
  {
   "cell_type": "code",
   "execution_count": 9,
   "id": "4a550b46",
   "metadata": {},
   "outputs": [
    {
     "data": {
      "image/png": "[encoded data removed]",
      "text/plain": [
       "<Figure size 494.726x144.48 with 1 Axes>"
      ]
     },
     "execution_count": 9,
     "metadata": {},
     "output_type": "execute_result"
    }
   ],
   "source": [
    "# Bob then checks like before and measures the message with his own choice of bases\n",
    "bob_bases = bob.init_bases()\n",
    "bob_results = bob.measure_message(message, bob_bases)\n",
    "message[0].draw('mpl')"
   ]
  },
  {
   "cell_type": "code",
   "execution_count": 10,
   "id": "a507d8a3",
   "metadata": {},
   "outputs": [],
   "source": [
    "# just like before, Bob and Alice reveal choice of basis over Eve's public channel\n",
    "bob_key = bob.remove_garbage(alice_bases, bob_bases, bob_results)\n",
    "alice_key = alice.remove_garbage(alice_bases, bob_bases, alice_bits)"
   ]
  },
  {
   "cell_type": "code",
   "execution_count": 11,
   "id": "b6cfbda5",
   "metadata": {},
   "outputs": [
    {
     "name": "stdout",
     "output_type": "stream",
     "text": [
      "  bob_sample = [1, 0, 0, 0, 0, 1, 1, 1, 0, 0, 0, 0, 1, 1, 1]\n",
      "alice_sample = [1, 0, 1, 0, 0, 1, 1, 1, 0, 0, 0, 0, 0, 1, 1]\n"
     ]
    }
   ],
   "source": [
    "sample_size = 15\n",
    "bit_selection = randint(32, size=sample_size)\n",
    "bob_sample = bob.share_random_sample(bob_key, bit_selection)\n",
    "print(\"  bob_sample = \" + str(bob_sample))\n",
    "alice_sample = alice.share_random_sample(alice_key, bit_selection)\n",
    "print(\"alice_sample = \"+ str(alice_sample))"
   ]
  },
  {
   "cell_type": "code",
   "execution_count": 12,
   "id": "882a741c",
   "metadata": {
    "scrolled": true
   },
   "outputs": [
    {
     "name": "stdout",
     "output_type": "stream",
     "text": [
      "False\n"
     ]
    }
   ],
   "source": [
    "# either due to noise or eavesdropping, the message in void\n",
    "print(bob_sample == alice_sample)"
   ]
  },
  {
   "cell_type": "markdown",
   "id": "e784d0f3",
   "metadata": {},
   "source": [
    "## Example of Quantum Algorithm: BB84"
   ]
  },
  {
   "cell_type": "code",
   "execution_count": 17,
   "id": "9516ffa0",
   "metadata": {},
   "outputs": [
    {
     "data": {
      "image/png": "[encoded data removed]",
      "text/plain": [
       "<Figure size 1260.68x1047.48 with 1 Axes>"
      ]
     },
     "execution_count": 17,
     "metadata": {},
     "output_type": "execute_result"
    }
   ],
   "source": [
    "def bb84(state, basis, measurement):\n",
    "    \"\"\"\n",
    "    Run the BB84 algorithm to run the QKD protocol\n",
    "        @params:\n",
    "            state       - Required  : the state of the qubits that want to be transmitted (int)\n",
    "            basis       - Required  : the basis used to encode the state paramter above\n",
    "            measurement - Required  : the measurement basis used when reciving the encoded message from the basis\n",
    "                                      paramter\n",
    "\n",
    "    \"\"\"\n",
    "    # initialize the circuit\n",
    "    size = len(state)\n",
    "    qc = QuantumCircuit(size)\n",
    "    \n",
    "    # iterate over the qubits in the basis: \n",
    "    # if 1, apply Pauli X, if 0, apply Hadamard\n",
    "    for i in range(len(basis)):\n",
    "        if state[i] == 1:\n",
    "            qc.x(i)\n",
    "        if state[i] == 0:\n",
    "            qc.h(i)\n",
    "    # after a transformation is applied to each qubit, measure\n",
    "    for i in range(len(measurement)):\n",
    "        if measurement[i] == 1:\n",
    "            qc.h(i)\n",
    "    qc.measure_all()\n",
    "    \n",
    "    return qc\n",
    "    \n",
    "num_qubits = 16\n",
    "\n",
    "alice_basis = np.random.randint(2, size=num_qubits)\n",
    "alice_bits = np.random.randint(2, size=num_qubits)\n",
    "bob_basis = np.random.randint(2, size=num_qubits)\n",
    "\n",
    "bb84(alice_bits, alice_basis, bob_basis).draw('mpl')"
   ]
  }
 ],
 "metadata": {
  "kernelspec": {
   "display_name": "Python 3",
   "language": "python",
   "name": "python3"
  },
  "language_info": {
   "codemirror_mode": {
    "name": "ipython",
    "version": 3
   },
   "file_extension": ".py",
   "mimetype": "text/x-python",
   "name": "python",
   "nbconvert_exporter": "python",
   "pygments_lexer": "ipython3",
   "version": "3.9.1"
  }
 },
 "nbformat": 4,
 "nbformat_minor": 5
}

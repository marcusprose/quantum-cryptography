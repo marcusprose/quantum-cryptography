{
 "cells": [
  {
   "cell_type": "markdown",
   "id": "4cdb1b7f",
   "metadata": {},
   "source": [
    "# Quantum Key Distribution"
   ]
  },
  {
   "cell_type": "markdown",
   "id": "3f3c2c12",
   "metadata": {},
   "source": [
    "## Imports"
   ]
  },
  {
   "cell_type": "code",
   "execution_count": 2,
   "id": "7c33ebbd",
   "metadata": {},
   "outputs": [],
   "source": [
    "# boilerplate\n",
    "import numpy as np\n",
    "import pandas as pd\n",
    "import matplotlib as plt\n",
    "import os\n",
    "\n",
    "# qiskit\n",
    "from qiskit import QuantumCircuit, execute, Aer\n",
    "from qiskit.visualization import plot_histogram, plot_bloch_multivector\n",
    "from numpy.random import randint\n",
    "from qiskit.providers.aer import QasmSimulator\n",
    "\n",
    "# other classes I wrote\n",
    "import Alice\n",
    "import Bob\n",
    "import Eve\n",
    "import Encrypt"
   ]
  },
  {
   "cell_type": "markdown",
   "id": "461cdc24",
   "metadata": {},
   "source": [
    "## Some important notes\n",
    "\n",
    "- The following is the simplified, general process of how QKD works (a specific, more formalized example is below):\n",
    "\n",
    "    1. Alice generates a string of qubits to encode and a corresponding string of bases she wants to use for encoding (both private)\n",
    "    2. Alice then encodes each bit in her string with the corresponding basis and sends this message to Bob\n",
    "    3. Bob then measures each qubit at random from the encoded message\n",
    "    4. Bob and Alice publicly share which bases they used for each qubit: if there is a match, they use that qubit to form part of a shared secret key\n",
    "    5. Finally, Alice and Bob share a random sample of their generated keys. If they match, then the transmission was extremely likely to be successful\n",
    "    \n",
    "    $$ $$\n",
    "\n",
    "- Fact: measuring a quibit can change its state. If Eve attempts to access the information contained in the qubit sent from Alice to Bob, i.e. by measuring it, then it is possible that the state of the qubit will be changed.\n",
    "\n",
    "- Note: only run each cell once. Running multiple times might make the circuit look a litle weird.\n",
    "\n"
   ]
  },
  {
   "cell_type": "markdown",
   "id": "e7479f7c",
   "metadata": {},
   "source": [
    "## Demo 1: Without Interception\n",
    "\n",
    "This first demo shows the QKD process in the abscene of an eavesdropper Eve attempting to listen in or otherwise tamper with the communication channel."
   ]
  },
  {
   "cell_type": "code",
   "execution_count": null,
   "id": "866a826a",
   "metadata": {
    "scrolled": true
   },
   "outputs": [],
   "source": [
    "# Run the following cell just to see if the classes work properly, \n",
    "# treating the encryption as an object and running the following methods on it\n",
    "\n",
    "# e = Encrypt.Encrypt(32)\n",
    "# print(e.run_without_intercept()) \n",
    "# print(e.run_with_intercept()) "
   ]
  },
  {
   "cell_type": "code",
   "execution_count": 3,
   "id": "f7592661",
   "metadata": {},
   "outputs": [
    {
     "data": {
      "image/png": "[encoded data removed]",
      "text/plain": [
       "<Figure size 193.726x144.48 with 1 Axes>"
      ]
     },
     "execution_count": 3,
     "metadata": {},
     "output_type": "execute_result"
    }
   ],
   "source": [
    "alice = Alice.Alice(100)\n",
    "bob = Bob.Bob(100)\n",
    "bits = alice.init_bitstring()\n",
    "bases = alice.init_bases()\n",
    "    \n",
    "list = alice.encode_bitstring(bits, bases)\n",
    "list[3].draw('mpl')"
   ]
  },
  {
   "cell_type": "code",
   "execution_count": 4,
   "id": "89806f02",
   "metadata": {},
   "outputs": [
    {
     "data": {
      "image/png": "[encoded data removed]",
      "text/plain": [
       "<Figure size 253.926x144.48 with 1 Axes>"
      ]
     },
     "execution_count": 4,
     "metadata": {},
     "output_type": "execute_result"
    }
   ],
   "source": [
    "np.random.seed(seed=0)\n",
    "n = 100\n",
    "\n",
    "# Alice generates bits and bases\n",
    "alice_bits = randint(2, size=n)\n",
    "alice_bases = randint(2, size=n)\n",
    "\n",
    "message = alice.encode_bitstring(alice_bits, alice_bases)\n",
    "message[7].draw('mpl') # a single encoded qubit in the single-qubit circuit"
   ]
  },
  {
   "cell_type": "code",
   "execution_count": 5,
   "id": "9bdcd4d2",
   "metadata": {},
   "outputs": [
    {
     "name": "stdout",
     "output_type": "stream",
     "text": [
      "Bob's results: [0, 1, 0, 1, 1, 0, 0, 0, 1, 1, 1, 0, 0, 1, 0, 0, 1, 0, 1, 0, 1, 1, 1, 0, 0, 0, 1, 1, 1, 0, 0, 0, 0, 0, 1, 1, 1, 1, 0, 0, 1, 1, 0, 1, 1, 0, 1, 0, 1, 0, 1, 1, 1, 1, 1, 0, 1, 0, 0, 0, 1, 1, 0, 0, 0, 0, 1, 0, 0, 0, 1, 0, 0, 0, 1, 1, 1, 0, 1, 0, 0, 1, 0, 1, 1, 1, 1, 1, 0, 1, 1, 1, 0, 0, 1, 0, 0, 0, 1, 1]\n"
     ]
    },
    {
     "data": {
      "image/png": "[encoded data removed]",
      "text/plain": [
       "<Figure size 314.126x144.48 with 1 Axes>"
      ]
     },
     "execution_count": 5,
     "metadata": {},
     "output_type": "execute_result"
    }
   ],
   "source": [
    "# now bob measures the message in a random sequence of bases of his choosing\n",
    "bob_bases = randint(2, size=n)\n",
    "bob_results = bob.measure_message(message, bob_bases) # this is the result for step 3.. bob keeps this result private\n",
    "print(f'Bob\\'s results: {bob_results}')\n",
    "message[0].draw('mpl')"
   ]
  },
  {
   "cell_type": "code",
   "execution_count": 6,
   "id": "fbe0762c",
   "metadata": {},
   "outputs": [
    {
     "name": "stdout",
     "output_type": "stream",
     "text": [
      "100\n"
     ]
    }
   ],
   "source": [
    "message[6].draw('mpl')\n",
    "print(len(bob_results))"
   ]
  },
  {
   "cell_type": "code",
   "execution_count": 7,
   "id": "712eb214",
   "metadata": {
    "scrolled": true
   },
   "outputs": [
    {
     "name": "stdout",
     "output_type": "stream",
     "text": [
      "Alice key = [0, 1, 1, 1, 1, 0, 1, 0, 0, 0, 0, 1, 0, 0, 0, 1, 1, 1, 0, 1, 0, 1, 1, 0, 1, 0, 0, 0, 0, 0, 0, 1, 0, 0, 1, 1, 0, 0, 0, 1, 1, 1, 1, 0, 0, 1, 0, 0]\n",
      "Bob key = [0, 1, 1, 1, 1, 0, 1, 0, 0, 0, 0, 1, 0, 0, 0, 1, 1, 1, 0, 1, 0, 1, 1, 0, 1, 0, 0, 0, 0, 0, 0, 1, 0, 0, 1, 1, 0, 0, 0, 1, 1, 1, 1, 0, 0, 1, 0, 0]\n",
      "\n",
      "Len_alice = 48\n",
      "Len_bob = 48\n",
      "\n",
      "True\n",
      "bob_sample = [0, 1, 0, 1, 1, 0, 0, 0, 0, 0, 0, 1, 0, 0, 0, 1]\n",
      "alice_sample = [0, 1, 0, 1, 1, 0, 0, 0, 0, 0, 0, 1, 0, 0, 0, 1]\n",
      "True\n"
     ]
    }
   ],
   "source": [
    "alice_key = alice.remove_garbage(alice_bases, bob_bases, alice_bits)\n",
    "bob_key = bob.remove_garbage(alice_bases, bob_bases, bob_results)\n",
    "print(f'Alice key = {alice_key}')\n",
    "print(f'Bob key = {bob_key}')\n",
    "print()\n",
    "\n",
    "print(f'Len_alice = {len(alice_key)}')\n",
    "print(f'Len_bob = {len(bob_key)}')\n",
    "print()\n",
    "\n",
    "print(alice_key == bob_key)\n",
    "\n",
    "# now testing a random sample to make sure the protocol worked correctly\n",
    "sample_size = 16\n",
    "bit_selection = randint(n, size=sample_size)\n",
    "\n",
    "bob_sample = bob.share_random_sample(bob_key, bit_selection)\n",
    "print(\"bob_sample = \" + str(bob_sample))\n",
    "alice_sample = alice.share_random_sample(alice_key, bit_selection)\n",
    "print(\"alice_sample = \"+ str(alice_sample))\n",
    "\n",
    "\n",
    "# if successful, true (with very high probability)\n",
    "print(bob_sample == alice_sample) "
   ]
  },
  {
   "cell_type": "markdown",
   "id": "05b8e4df",
   "metadata": {},
   "source": [
    "## Demo 2: With Interception\n",
    "\n",
    "This second demo experiments Eve's tampering with the encoded message using her own bases."
   ]
  },
  {
   "cell_type": "code",
   "execution_count": 8,
   "id": "3a3a8c52",
   "metadata": {},
   "outputs": [
    {
     "data": {
      "image/png": "[encoded data removed]",
      "text/plain": [
       "<Figure size 314.126x144.48 with 1 Axes>"
      ]
     },
     "execution_count": 8,
     "metadata": {},
     "output_type": "execute_result"
    }
   ],
   "source": [
    "alice = Alice.Alice(32)\n",
    "bob = Bob.Bob(32)\n",
    "eve = Eve.Eve(32) # now, we need an eavesdropper\n",
    "\n",
    "\n",
    "alice_bits = alice.init_bitstring()\n",
    "alice_bases = alice.init_bases()\n",
    "    \n",
    "message = alice.encode_bitstring(alice_bits, alice_bases)\n",
    "message[0].draw('mpl')"
   ]
  },
  {
   "cell_type": "code",
   "execution_count": 9,
   "id": "2216a46f",
   "metadata": {},
   "outputs": [
    {
     "name": "stdout",
     "output_type": "stream",
     "text": [
      "[1, 1, 0, 0, 1, 1, 1, 0, 0, 1, 1, 0, 0, 1, 1, 0, 0, 0, 0, 1, 1, 0, 0, 0, 1, 1, 1, 1, 1, 0, 1, 0]\n"
     ]
    },
    {
     "data": {
      "image/png": "[encoded data removed]",
      "text/plain": [
       "<Figure size 434.526x144.48 with 1 Axes>"
      ]
     },
     "execution_count": 9,
     "metadata": {},
     "output_type": "execute_result"
    }
   ],
   "source": [
    "eve_bases = eve.init_bases()\n",
    "intercept_message = eve.intercept_message(message, eve_bases)\n",
    "print(intercept_message)\n",
    "message[0].draw('mpl')"
   ]
  },
  {
   "cell_type": "code",
   "execution_count": 10,
   "id": "4a550b46",
   "metadata": {},
   "outputs": [
    {
     "data": {
      "image/png": "[encoded data removed]",
      "text/plain": [
       "<Figure size 494.726x144.48 with 1 Axes>"
      ]
     },
     "execution_count": 10,
     "metadata": {},
     "output_type": "execute_result"
    }
   ],
   "source": [
    "# Bob then checks like before and measures the message with his own choice of bases\n",
    "bob_bases = bob.init_bases()\n",
    "bob_results = bob.measure_message(message, bob_bases)\n",
    "message[0].draw('mpl')"
   ]
  },
  {
   "cell_type": "code",
   "execution_count": 12,
   "id": "a507d8a3",
   "metadata": {},
   "outputs": [],
   "source": [
    "# just like before, Bob and Alice reveal choice of basis over Eve's public channel\n",
    "bob_key = bob.remove_garbage(alice_bases, bob_bases, bob_results)\n",
    "alice_key = alice.remove_garbage(alice_bases, bob_bases, alice_bits)"
   ]
  },
  {
   "cell_type": "code",
   "execution_count": 13,
   "id": "b6cfbda5",
   "metadata": {},
   "outputs": [
    {
     "name": "stdout",
     "output_type": "stream",
     "text": [
      "  bob_sample = [1, 0, 0, 1, 1, 1, 1, 0, 0, 0, 1, 0, 0, 1, 1]\n",
      "alice_sample = [1, 0, 1, 0, 0, 1, 1, 1, 0, 0, 0, 0, 0, 1, 1]\n"
     ]
    }
   ],
   "source": [
    "sample_size = 15\n",
    "bit_selection = randint(32, size=sample_size)\n",
    "bob_sample = bob.share_random_sample(bob_key, bit_selection)\n",
    "print(\"  bob_sample = \" + str(bob_sample))\n",
    "alice_sample = alice.share_random_sample(alice_key, bit_selection)\n",
    "print(\"alice_sample = \"+ str(alice_sample))"
   ]
  },
  {
   "cell_type": "code",
   "execution_count": 14,
   "id": "882a741c",
   "metadata": {
    "scrolled": true
   },
   "outputs": [
    {
     "name": "stdout",
     "output_type": "stream",
     "text": [
      "False\n"
     ]
    }
   ],
   "source": [
    "# either due to noise or eavesdropping, the message in void\n",
    "print(bob_sample == alice_sample)"
   ]
  },
  {
   "cell_type": "markdown",
   "id": "e784d0f3",
   "metadata": {},
   "source": [
    "## The First Quantum Cryptographic Protocol: BB84\n",
    "\n",
    "\n",
    "The following runs a very common algorithm when it comes to QKD. As an example, it outputs a circuit with $n$ qubits to see a visual of the quantum circuit. Known as the BB84, this QKD scheme was the first quantum protocol to be developed. This is a slighlty more specficic version of the the general QKD protocol described above. It just uses some more formal notation.\n",
    "\n",
    "1. First, Alice prepares two bitstrings $a_i$ and $b_i$ that are $n$ bits long, encoding them in the following tensor product,\n",
    "\n",
    "$$ |\\psi\\rangle = \\bigotimes_{i=1}^{n}|\\psi_{a_ib_i}\\rangle. $$\n",
    "\n",
    "These combinations result in four possible states after the encoding:\n",
    "\n",
    "$$ |\\psi_{00}\\rangle = |0\\rangle \\\\\n",
    "|\\psi_{10}\\rangle = |1\\rangle $$\n",
    "\n",
    "are the simply the $\\textbf{0}$ and $\\textbf{1}$ states, but there is also\n",
    "\n",
    "$$ |\\psi_{01}\\rangle = |+\\rangle = \\frac{1}{\\sqrt{2}}|0\\rangle + \\frac{1}{\\sqrt{2}}|1\\rangle \\\\\n",
    "|\\psi_{11}\\rangle = |-\\rangle = \\frac{1}{\\sqrt{2}}|0\\rangle - \\frac{1}{\\sqrt{2}}|1\\rangle, $$\n",
    "\n",
    "which are also two very important states called Bell States, as they are maximally entangled. The bit $b_i$ is what decides which basis $a_i$ is encoded in. But because the qubits are in states that aren't mutually orthogonal, the linear combination of states might not produce the trivial solution and hence, it is impossible to distinguish all of them with certainty without knowing $b_i$.\n",
    "\n",
    "2. Next, Alice sends her encoded message $|\\psi\\rangle $ to Bob over the public quantum channel. Because of the existence of potential eavesdropping from like we discussed above and quantum noise, let $B(|\\psi\\rangle|\\psi\\rangle)$ be the function representing the message Bob recieves from Alice.\n",
    "3. After Bob receives the string of qubits, both Bob and Eve have their own states. However, since only Alice knows $b$, it makes it virtually impossible for either Bob or Eve to distinguish the states of the qubits. Also, after Bob has received the qubits, we know that Eve cannot be in possession of a copy of the qubits sent to Bob, by the no-cloning theorem, unless she has made measurements. Her measurements, however, risk disturbing a particular qubit with probability 0.5 if she guesses the wrong basis.\n",
    "4. Now, Bob generates his own key the same length as what he recieved from Alice. Call this $b_{Bob}$. He measures the qubits recieved from Alice, obtaining a bit string which we'll call $a_{Bob}$. \n",
    "5. Bob announces publicly that he has received Alice's transmission.\n",
    "6. Alice then knows she can now safely announce $b$, i.e., the bases in which the qubits were prepared. Bob communicates over a public channel with Alice to determine which $b_i$ and $b_{i Bob}$ are not equal. Both Alice and Bob now discard the bits in $a$ and $a_{Bob}$ where $b$ and $b_{Bob}$ do not match (the $\\texttt{remove_garbage}$ method).\n",
    "7. From the remaining $k$ bits where both Alice and Bob measured in the same basis, Alice randomly chooses half of those bits and discloses her choices over the public channel. Both Alice and Bob announce these bits publicly and run a check to see whether more than a certain number of them agree. If this check passes, Alice and Bob have a shared, secret key."
   ]
  },
  {
   "cell_type": "code",
   "execution_count": 15,
   "id": "687ad47e",
   "metadata": {
    "scrolled": false
   },
   "outputs": [
    {
     "data": {
      "image/png": "[encoded data removed]",
      "text/plain": [
       "<Figure size 1260.68x1047.48 with 1 Axes>"
      ]
     },
     "execution_count": 15,
     "metadata": {},
     "output_type": "execute_result"
    }
   ],
   "source": [
    "def bb84(state, basis, measurement):\n",
    "    \"\"\"\n",
    "    Run the BB84 algorithm to run the QKD protocol\n",
    "        @params:\n",
    "            state       - Required  : the state of the qubits that want to be transmitted (int)\n",
    "            basis       - Required  : the basis used to encode the state paramter above\n",
    "            measurement - Required  : the measurement basis used when reciving the encoded message from the basis\n",
    "                                      paramter\n",
    "\n",
    "    \"\"\"\n",
    "    # initialize the circuit\n",
    "    size = len(state)\n",
    "    qc = QuantumCircuit(size)\n",
    "    \n",
    "    # iterate over the qubits in the basis: \n",
    "    # if 1, apply Pauli X, if 0, apply Hadamard\n",
    "    for i in range(len(basis)):\n",
    "        if state[i] == 1:\n",
    "            qc.x(i)\n",
    "        if state[i] == 0:\n",
    "            qc.h(i)\n",
    "    # after a transformation is applied to each qubit, measure\n",
    "    for i in range(len(measurement)):\n",
    "        if measurement[i] == 1:\n",
    "            qc.h(i)\n",
    "    # in the end, measures all of the qubits \n",
    "    qc.measure_all() \n",
    "    \n",
    "    return qc\n",
    "    \n",
    "num_qubits = 16\n",
    "\n",
    "# these can be changed using the bases and bits from the QKD protocol determined above, but have been randomized\n",
    "# for the sake of speed up \n",
    "#\n",
    "alice_basis = np.random.randint(2, size=num_qubits)\n",
    "alice_bits = np.random.randint(2, size=num_qubits)\n",
    "bob_basis = np.random.randint(2, size=num_qubits)\n",
    "\n",
    "bb84(alice_bits, alice_basis, bob_basis).draw('mpl')"
   ]
  },
  {
   "cell_type": "markdown",
   "id": "ed88ccf2",
   "metadata": {},
   "source": [
    "# Notebook References\n",
    "- https://qiskit.org/textbook/ch-algorithms/quantum-key-distribution.html#1.-Introduction\n",
    "- https://en.wikipedia.org/wiki/BB84\n"
   ]
  }
 ],
 "metadata": {
  "kernelspec": {
   "display_name": "Python 3",
   "language": "python",
   "name": "python3"
  },
  "language_info": {
   "codemirror_mode": {
    "name": "ipython",
    "version": 3
   },
   "file_extension": ".py",
   "mimetype": "text/x-python",
   "name": "python",
   "nbconvert_exporter": "python",
   "pygments_lexer": "ipython3",
   "version": "3.9.1"
  }
 },
 "nbformat": 4,
 "nbformat_minor": 5
}

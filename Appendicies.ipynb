{
 "cells": [
  {
   "cell_type": "markdown",
   "id": "38d967ee",
   "metadata": {},
   "source": [
    "# Appendicies"
   ]
  },
  {
   "cell_type": "markdown",
   "id": "6303d250",
   "metadata": {},
   "source": [
    "## Superdense Coding\n",
    "In order to understand the importance of superdense coding and its relationship to quantum cryptography, we must discuss two important physical phenomena: superposition and entanglement.   "
   ]
  },
  {
   "cell_type": "markdown",
   "id": "d376b852",
   "metadata": {},
   "source": [
    "### Superposition\n",
    "\n",
    "Quantum superposition is a unique probabilsitic state where the probability of measuring a quibit as 0 or 1 is equally 50%. "
   ]
  },
  {
   "cell_type": "markdown",
   "id": "ff1ee88e",
   "metadata": {},
   "source": [
    "### Entanglement\n",
    "\n",
    "Quantum entanglement is a state of strong correlation between two qubits, when when such qubits are separated by great distances. The correlation is so strong that the qubits can communicate faster than the speed of light. An application of this idea is quantum teleportation."
   ]
  },
  {
   "cell_type": "markdown",
   "id": "221ddd5d",
   "metadata": {},
   "source": [
    "### The Process\n",
    "\n",
    "Alice seeks to send Bob a two, classical-bit message, but only has her single quibit from the entangels pair. Alice is equipped with one quibit from an entangles pair while Bob recieves the other. Alice's mission (should she choose to accept) is to send a two bit classical message using only one qubit.\n",
    "\n",
    "// TODO"
   ]
  },
  {
   "cell_type": "markdown",
   "id": "d0da1820",
   "metadata": {},
   "source": [
    "## Quantum Algorithms: How to Look for Them\n",
    "\n",
    "### Polynomial Speedup\n",
    "\n",
    "$$ \\frac{\\text{quantum cost}}{\\text{classical cost}} ~ (\\text{problem size})^-\\text{power}$$\n",
    "\n",
    "Example: Grover Search \n",
    "\n",
    "You have a database of n elements. Find one element."
   ]
  }
 ],
 "metadata": {
  "kernelspec": {
   "display_name": "Python 3",
   "language": "python",
   "name": "python3"
  },
  "language_info": {
   "codemirror_mode": {
    "name": "ipython",
    "version": 3
   },
   "file_extension": ".py",
   "mimetype": "text/x-python",
   "name": "python",
   "nbconvert_exporter": "python",
   "pygments_lexer": "ipython3",
   "version": "3.9.1"
  }
 },
 "nbformat": 4,
 "nbformat_minor": 5
}
